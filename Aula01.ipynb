{
 "cells": [
  {
   "cell_type": "markdown",
   "id": "fea8ecbd-3fe0-452d-be5d-6c530941369c",
   "metadata": {},
   "source": [
    "# Aula Java \n",
    "## IFPR - Campus Cascavel\n",
    "### Professor Nelson Bellincanta \n",
    "\n",
    "Usando o IJava Kernel, você pode escrever qualquer expressão Java a ser avaliada.\n",
    "(Você pode executar a célula usando CTRL+Enter)"
   ]
  },
  {
   "cell_type": "code",
   "execution_count": 2,
   "id": "39fa724f-b491-4702-af4a-1a8793e6722b",
   "metadata": {},
   "outputs": [
    {
     "data": {
      "text/plain": [
       "Hello3!"
      ]
     },
     "execution_count": 2,
     "metadata": {},
     "output_type": "execute_result"
    }
   ],
   "source": [
    "String hi = \"Hello3!\";\n",
    "hi"
   ]
  },
  {
   "cell_type": "code",
   "execution_count": 2,
   "id": "185fa7a0-4900-424b-acad-c0145fe996e1",
   "metadata": {},
   "outputs": [],
   "source": [
    "String[] args = null;"
   ]
  },
  {
   "cell_type": "markdown",
   "id": "82c6b4d6-6884-42cb-9052-cd1ef4fc3b05",
   "metadata": {},
   "source": [
    "#Primeiro Programa em Java\n",
    "\n",
    "Você pode alterar o valor da célula para ver diferentes saídas"
   ]
  },
  {
   "cell_type": "code",
   "execution_count": 3,
   "id": "2fa82f66-e51b-477a-a098-2c1650e7edf6",
   "metadata": {},
   "outputs": [],
   "source": [
    "public class HelloWorld {\n",
    "    \n",
    "    public static void main(String[] args){\n",
    "        \n",
    "        System.out.println(\"Hello Wor0ld!\");\n",
    "    }\n",
    "}"
   ]
  },
  {
   "cell_type": "code",
   "execution_count": 4,
   "id": "ec86c6d3-7e37-4465-83ee-627309ecd9ea",
   "metadata": {},
   "outputs": [
    {
     "ename": "CompilationException",
     "evalue": "",
     "output_type": "error",
     "traceback": [
      "\u001b[1m\u001b[30m|   \u001b[1m\u001b[30mHelloWorld.main(\u001b[0m\u001b[1m\u001b[30m\u001b[41margs\u001b[0m\u001b[1m\u001b[30m)\u001b[0m",
      "\u001b[1m\u001b[31mcannot find symbol\u001b[0m",
      "\u001b[1m\u001b[31m  symbol:   variable args\u001b[0m",
      ""
     ]
    }
   ],
   "source": [
    "HelloWorld.main(args)"
   ]
  },
  {
   "cell_type": "code",
   "execution_count": null,
   "id": "f6347914-bd82-43ad-ac24-70d973188a35",
   "metadata": {},
   "outputs": [],
   "source": []
  }
 ],
 "metadata": {
  "kernelspec": {
   "display_name": "Java",
   "language": "java",
   "name": "java"
  },
  "language_info": {
   "codemirror_mode": "java",
   "file_extension": ".jshell",
   "mimetype": "text/x-java-source",
   "name": "Java",
   "pygments_lexer": "java",
   "version": "19.0.2+7-44"
  }
 },
 "nbformat": 4,
 "nbformat_minor": 5
}
